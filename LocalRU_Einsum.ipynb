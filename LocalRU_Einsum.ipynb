{
 "cells": [
  {
   "cell_type": "code",
   "execution_count": 3,
   "metadata": {},
   "outputs": [],
   "source": [
    "import numpy as np\n",
    "from qutip import *\n",
    "import random\n",
    "random_gen = np.random.RandomState(random.SystemRandom().randrange(2 ** 32 - 1))\n",
    "\n",
    "def CUE(nh):\n",
    "    \"\"\"A Random unitary matrix distributed with Haar measure\"\"\"\n",
    "    z = (random_gen.randn(nh, nh) + 1j * random_gen.randn(nh, nh)) / np.sqrt(2.0)\n",
    "    q, r = np.linalg.qr(z)\n",
    "    d = np.diagonal(r)\n",
    "    ph = d / np.absolute(d)\n",
    "    q = np.multiply(q, ph, q)\n",
    "    return q"
   ]
  },
  {
   "cell_type": "code",
   "execution_count": 20,
   "metadata": {},
   "outputs": [],
   "source": [
    "N=11"
   ]
  },
  {
   "cell_type": "code",
   "execution_count": 7,
   "metadata": {},
   "outputs": [
    {
     "name": "stdout",
     "output_type": "stream",
     "text": [
      "Fidelity 1.0000000000000004\n"
     ]
    }
   ],
   "source": [
    "psi=np.zeros((2**N))\n",
    "psi[0]=1\n",
    "psi_tensor=psi.reshape(tuple([2] * N))\n",
    "\n",
    "U=1.\n",
    "for n in range(N):\n",
    "    u=CUE(2)\n",
    "    U=np.kron(U,u)\n",
    "    psi_tensor = np.einsum(u, [N, n], psi_tensor, list(range(N)), list(range(n)) + [N] + list(range(n + 1, N)))\n",
    "psi=np.einsum('ij,j->i',U,psi)\n",
    "psi_tensor=psi_tensor.reshape((2**N))\n",
    "\n",
    "print('Fidelity', np.abs(np.einsum('i,i->',psi,np.conjugate(psi_tensor)))**2)"
   ]
  },
  {
   "cell_type": "code",
   "execution_count": 21,
   "metadata": {},
   "outputs": [],
   "source": [
    "rho=np.zeros((2**N,2**N))\n",
    "rho[0,0]=0.5\n",
    "rho[1,1]=0.5\n",
    "rho_tensor=rho.reshape(tuple([2] * (2*N)),order='C')\n",
    "\n",
    "\n",
    "U=1.\n",
    "for n in range(N):\n",
    "    u=CUE(2)\n",
    "    #U=np.kron(U,u)\n",
    "    rho_tensor = np.einsum(u, [2*N, n], rho_tensor, list(range(2*N)), np.conjugate(u), [2*N+1,N+n], list(range(n)) + [2*N] + list(range(n + 1, N+n)) + [2*N+1]+ list(range(N+n+1,2*N)))\n",
    "\n",
    "\n",
    "#rho=np.einsum('ij,jk,lk->il',U,rho,np.conjugate(U))\n",
    "#rho_tensor=rho_tensor.reshape((2**N,2**N))\n",
    "\n",
    "#print('Fidelity',fidelity(Qobj(rho),Qobj(rho_tensor)))\n",
    "\n"
   ]
  },
  {
   "cell_type": "code",
   "execution_count": 22,
   "metadata": {},
   "outputs": [
    {
     "name": "stdout",
     "output_type": "stream",
     "text": [
      "0.0\n"
     ]
    }
   ],
   "source": [
    "rho=np.zeros((2**N,2**N))\n",
    "rho[0,0]=0.5\n",
    "rho[1,1]=0.5\n",
    "rho_tensor=rho.reshape(tuple([2] * (2*N)),order='C')\n",
    "prob_tensor=rho.reshape(tuple([2] * (2*N)),order='C')\n",
    "for n in range(N):\n",
    "    u=CUE(2)\n",
    "    rho_tensor = np.einsum(u, [2*N, n], rho_tensor, list(range(2*N)), np.conjugate(u), [2*N+1,N+n], list(range(n)) + [2*N] + list(range(n + 1, N+n)) + [2*N+1]+ list(range(N+n+1,2*N)))\n",
    "    prob_tensor = np.einsum(u, [2*N, n], prob_tensor, list(range(N))+list(range(n+N,2*N)), np.conjugate(u), [2*N,N+n], list(range(n)) + [2*N] + list(range(n + 1, N)) + list(range(N+n+1,2*N)))\n",
    "\n",
    "prob= prob_tensor.reshape(2**N)\n",
    "rho=rho_tensor.reshape((2**N,2**N))\n",
    "prob_rho = np.einsum('aa->a',rho)\n",
    "print(sum(abs(prob-prob_rho)))"
   ]
  },
  {
   "cell_type": "code",
   "execution_count": null,
   "metadata": {},
   "outputs": [],
   "source": []
  }
 ],
 "metadata": {
  "kernelspec": {
   "display_name": "Python 3",
   "language": "python",
   "name": "python3"
  },
  "language_info": {
   "codemirror_mode": {
    "name": "ipython",
    "version": 3
   },
   "file_extension": ".py",
   "mimetype": "text/x-python",
   "name": "python",
   "nbconvert_exporter": "python",
   "pygments_lexer": "ipython3",
   "version": "3.7.3"
  }
 },
 "nbformat": 4,
 "nbformat_minor": 4
}
